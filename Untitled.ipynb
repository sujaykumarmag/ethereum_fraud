{
 "cells": [
  {
   "cell_type": "markdown",
   "id": "19ed9779",
   "metadata": {},
   "source": [
    "# ETHEREUM FRAUD DETECTION                                                                              \n",
    "##  PROJECT IN FEATURE ENGINEERING"
   ]
  },
  {
   "cell_type": "markdown",
   "id": "d209c4db",
   "metadata": {},
   "source": [
    "### TRAINING AND TESTING DATASET"
   ]
  },
  {
   "cell_type": "markdown",
   "id": "3efc768a",
   "metadata": {},
   "source": [
    "    Given\n",
    "        History of Transactions\n",
    "        List of Etherum Accounts\n",
    "        Training set -> with flags(0-> normal account 1-> fraud account)\n",
    "        Testing set -> To be predicted\n",
    "        "
   ]
  },
  {
   "cell_type": "markdown",
   "id": "43e6cba6",
   "metadata": {},
   "source": [
    "### TRANSACTION DATASET"
   ]
  },
  {
   "cell_type": "markdown",
   "id": "8ed74106",
   "metadata": {},
   "source": [
    "    Given \n",
    "        From account\n",
    "        To account\n",
    "        Transaction time -> \"yyyy-mm-dd HH:MM:SS\"\n",
    "        Value -> ammount of ETH to transfer from sender to receipient(in WEI)( 0 -> TOKEN TRANSFER )\n",
    "        gas -> ammount of computational power\n",
    "        gas_price -> Price of each gas_unit"
   ]
  },
  {
   "cell_type": "code",
   "execution_count": 1,
   "id": "a3cf41ed",
   "metadata": {},
   "outputs": [],
   "source": [
    "# Importing Pandas\n",
    "import pandas as pd\n",
    "# Importing Numpy\n",
    "import re\n",
    "import numpy as np\n",
    "from sklearn.metrics import classification_report,accuracy_score\n",
    "from sklearn.ensemble import IsolationForest\n",
    "from sklearn.neighbors import LocalOutlierFactor\n",
    "from sklearn.svm import OneClassSVM\n",
    "from pylab import rcParams\n",
    "rcParams['figure.figsize'] = 14, 8\n",
    "RANDOM_SEED = 42\n",
    "LABELS = [\"Normal\", \"Fraud\"]"
   ]
  },
  {
   "cell_type": "code",
   "execution_count": 2,
   "id": "2b670536",
   "metadata": {},
   "outputs": [],
   "source": [
    "# Importing Train and test dataset\n",
    "train = pd.read_csv(\"./train_accounts.csv\")\n",
    "test = pd.read_csv(\"test_accounts.csv\")"
   ]
  },
  {
   "cell_type": "code",
   "execution_count": 3,
   "id": "22eb3365",
   "metadata": {},
   "outputs": [],
   "source": [
    "# Importing Transaction Dataset\n",
    "trans_acc = pd.read_csv(\"transactions.csv\")"
   ]
  },
  {
   "cell_type": "code",
   "execution_count": 4,
   "id": "3a92ce71",
   "metadata": {},
   "outputs": [],
   "source": [
    "### Take a part of the dataset and apply the following\n",
    "# trans_acc = trans_acc.sample(frac=0.01,random_state=1)"
   ]
  },
  {
   "cell_type": "markdown",
   "id": "e323c968",
   "metadata": {},
   "source": [
    "### Now, we take out all the NaN values from the dataset"
   ]
  },
  {
   "cell_type": "code",
   "execution_count": 5,
   "id": "6999a693",
   "metadata": {},
   "outputs": [
    {
     "data": {
      "text/plain": [
       "(5826604, 6)"
      ]
     },
     "execution_count": 5,
     "metadata": {},
     "output_type": "execute_result"
    }
   ],
   "source": [
    "trans_acc.shape"
   ]
  },
  {
   "cell_type": "code",
   "execution_count": 6,
   "id": "0a67b4e9",
   "metadata": {},
   "outputs": [
    {
     "data": {
      "text/plain": [
       "0"
      ]
     },
     "execution_count": 6,
     "metadata": {},
     "output_type": "execute_result"
    }
   ],
   "source": [
    "# Theres only account whose value is null\n",
    "trans_acc[\"value\"].isnull().sum()"
   ]
  },
  {
   "cell_type": "code",
   "execution_count": 7,
   "id": "41c71f18",
   "metadata": {},
   "outputs": [],
   "source": [
    "# Dropping that particular column -> This maybe fraudulent so use the \n",
    "trans_acc = trans_acc.dropna(axis=0)"
   ]
  },
  {
   "cell_type": "code",
   "execution_count": 8,
   "id": "c16b2b9c",
   "metadata": {},
   "outputs": [
    {
     "name": "stdout",
     "output_type": "stream",
     "text": [
      "(5826604, 6)\n"
     ]
    }
   ],
   "source": [
    "trans_acc.dtypes\n",
    "print(trans_acc.shape)"
   ]
  },
  {
   "cell_type": "markdown",
   "id": "10335bef",
   "metadata": {},
   "source": [
    "### To take the token transfers away from the value"
   ]
  },
  {
   "cell_type": "code",
   "execution_count": 9,
   "id": "d25a9236",
   "metadata": {},
   "outputs": [],
   "source": [
    "# Applied Binary Encoding\n",
    "trans_acc[\"token_transfer\"] = trans_acc[\"value\"].apply(lambda row:1 if row == \"0\" else 0)"
   ]
  },
  {
   "cell_type": "code",
   "execution_count": 10,
   "id": "1cc3504f",
   "metadata": {},
   "outputs": [
    {
     "data": {
      "text/plain": [
       "(5826604, 7)"
      ]
     },
     "execution_count": 10,
     "metadata": {},
     "output_type": "execute_result"
    }
   ],
   "source": [
    "trans_acc.shape"
   ]
  },
  {
   "cell_type": "markdown",
   "id": "18fbf5fe",
   "metadata": {},
   "source": [
    "### Transform the value from object to float"
   ]
  },
  {
   "cell_type": "code",
   "execution_count": 11,
   "id": "77a2d1d1",
   "metadata": {},
   "outputs": [],
   "source": [
    "trans_acc[\"value\"] = trans_acc[\"value\"].astype(\"float\")"
   ]
  },
  {
   "cell_type": "code",
   "execution_count": 12,
   "id": "64bb4aa3",
   "metadata": {},
   "outputs": [
    {
     "data": {
      "text/plain": [
       "from_account             object\n",
       "to_account               object\n",
       "transaction_time_utc     object\n",
       "value                   float64\n",
       "gas                       int64\n",
       "gas_price                 int64\n",
       "token_transfer            int64\n",
       "dtype: object"
      ]
     },
     "execution_count": 12,
     "metadata": {},
     "output_type": "execute_result"
    }
   ],
   "source": [
    "trans_acc.dtypes"
   ]
  },
  {
   "cell_type": "markdown",
   "id": "488ae633",
   "metadata": {},
   "source": [
    "### Transforming the Date object to Pandas Date Object"
   ]
  },
  {
   "cell_type": "code",
   "execution_count": 13,
   "id": "6057eaa1",
   "metadata": {},
   "outputs": [],
   "source": [
    "trans_acc[\"trans_time_conv\"] = pd.to_datetime(trans_acc[\"transaction_time_utc\"])"
   ]
  },
  {
   "cell_type": "markdown",
   "id": "eab8011f",
   "metadata": {},
   "source": [
    "### Now we can drop the Date object"
   ]
  },
  {
   "cell_type": "code",
   "execution_count": 14,
   "id": "bba65eb6",
   "metadata": {},
   "outputs": [],
   "source": [
    "trans_acc = trans_acc.drop(\"transaction_time_utc\",axis=1)"
   ]
  },
  {
   "cell_type": "code",
   "execution_count": 15,
   "id": "6e9473b9",
   "metadata": {},
   "outputs": [
    {
     "data": {
      "text/plain": [
       "(5826604, 7)"
      ]
     },
     "execution_count": 15,
     "metadata": {},
     "output_type": "execute_result"
    }
   ],
   "source": [
    "trans_acc.shape"
   ]
  },
  {
   "cell_type": "markdown",
   "id": "caae02c7",
   "metadata": {},
   "source": [
    "### As the Variance of value attribute is very high we convert into ether"
   ]
  },
  {
   "cell_type": "code",
   "execution_count": 16,
   "id": "814f13cd",
   "metadata": {},
   "outputs": [],
   "source": [
    "trans_acc[\"value_log\"] = trans_acc[\"value\"].apply(lambda row : row * 1.0e-18)\n",
    "trans_acc[\"gas_price_log\"] = trans_acc[\"gas_price\"].apply(lambda row : row * 1.0e-9)"
   ]
  },
  {
   "cell_type": "markdown",
   "id": "e7d374df",
   "metadata": {},
   "source": [
    "### We can now drop the value and gasprice"
   ]
  },
  {
   "cell_type": "code",
   "execution_count": 17,
   "id": "7a2de64c",
   "metadata": {},
   "outputs": [],
   "source": [
    "trans_acc = trans_acc.drop([\"value\",\"gas_price\"],axis=1)"
   ]
  },
  {
   "cell_type": "markdown",
   "id": "2955815a",
   "metadata": {},
   "source": [
    "### To take the Year, Month, Time from the time"
   ]
  },
  {
   "cell_type": "code",
   "execution_count": 18,
   "id": "9ea411eb",
   "metadata": {},
   "outputs": [],
   "source": [
    "trans_acc[\"month\"] = trans_acc[\"trans_time_conv\"].apply(lambda row : row.month)\n",
    "trans_acc[\"day\"] = trans_acc[\"trans_time_conv\"].apply(lambda row : row.date().day)\n",
    "trans_acc[\"year\"] = trans_acc[\"trans_time_conv\"].apply(lambda row : row.year)\n",
    "trans_acc[\"hour\"] = trans_acc[\"trans_time_conv\"].apply(lambda row : row.time().hour)\n",
    "trans_acc[\"minutes\"] = trans_acc[\"trans_time_conv\"].apply(lambda row : row.time().minute)\n",
    "trans_acc[\"seconds\"] = trans_acc[\"trans_time_conv\"].apply(lambda row : row.time().second)"
   ]
  },
  {
   "cell_type": "markdown",
   "id": "f5e7a2ae",
   "metadata": {},
   "source": [
    "### As we have taken out the date we can now delete the trans_time_conv"
   ]
  },
  {
   "cell_type": "code",
   "execution_count": 19,
   "id": "c26c62a2",
   "metadata": {},
   "outputs": [],
   "source": [
    "trans_acc = trans_acc.drop([\"trans_time_conv\"],axis=1)"
   ]
  },
  {
   "cell_type": "code",
   "execution_count": 20,
   "id": "be747033",
   "metadata": {},
   "outputs": [
    {
     "data": {
      "text/html": [
       "<div>\n",
       "<style scoped>\n",
       "    .dataframe tbody tr th:only-of-type {\n",
       "        vertical-align: middle;\n",
       "    }\n",
       "\n",
       "    .dataframe tbody tr th {\n",
       "        vertical-align: top;\n",
       "    }\n",
       "\n",
       "    .dataframe thead th {\n",
       "        text-align: right;\n",
       "    }\n",
       "</style>\n",
       "<table border=\"1\" class=\"dataframe\">\n",
       "  <thead>\n",
       "    <tr style=\"text-align: right;\">\n",
       "      <th></th>\n",
       "      <th>gas</th>\n",
       "      <th>token_transfer</th>\n",
       "      <th>value_log</th>\n",
       "      <th>gas_price_log</th>\n",
       "      <th>month</th>\n",
       "      <th>day</th>\n",
       "      <th>year</th>\n",
       "      <th>hour</th>\n",
       "      <th>minutes</th>\n",
       "      <th>seconds</th>\n",
       "    </tr>\n",
       "  </thead>\n",
       "  <tbody>\n",
       "    <tr>\n",
       "      <th>gas</th>\n",
       "      <td>1.000000</td>\n",
       "      <td>0.185005</td>\n",
       "      <td>-0.007400</td>\n",
       "      <td>0.014938</td>\n",
       "      <td>0.008084</td>\n",
       "      <td>0.004585</td>\n",
       "      <td>0.053809</td>\n",
       "      <td>0.014560</td>\n",
       "      <td>-0.012228</td>\n",
       "      <td>0.006588</td>\n",
       "    </tr>\n",
       "    <tr>\n",
       "      <th>token_transfer</th>\n",
       "      <td>0.185005</td>\n",
       "      <td>1.000000</td>\n",
       "      <td>-0.037670</td>\n",
       "      <td>0.038727</td>\n",
       "      <td>-0.006035</td>\n",
       "      <td>-0.002554</td>\n",
       "      <td>0.207131</td>\n",
       "      <td>-0.006075</td>\n",
       "      <td>-0.017555</td>\n",
       "      <td>0.004475</td>\n",
       "    </tr>\n",
       "    <tr>\n",
       "      <th>value_log</th>\n",
       "      <td>-0.007400</td>\n",
       "      <td>-0.037670</td>\n",
       "      <td>1.000000</td>\n",
       "      <td>0.002357</td>\n",
       "      <td>-0.000019</td>\n",
       "      <td>-0.001103</td>\n",
       "      <td>-0.009571</td>\n",
       "      <td>0.001244</td>\n",
       "      <td>0.000021</td>\n",
       "      <td>0.000645</td>\n",
       "    </tr>\n",
       "    <tr>\n",
       "      <th>gas_price_log</th>\n",
       "      <td>0.014938</td>\n",
       "      <td>0.038727</td>\n",
       "      <td>0.002357</td>\n",
       "      <td>1.000000</td>\n",
       "      <td>0.016553</td>\n",
       "      <td>-0.013945</td>\n",
       "      <td>0.170488</td>\n",
       "      <td>0.014445</td>\n",
       "      <td>-0.001010</td>\n",
       "      <td>0.000894</td>\n",
       "    </tr>\n",
       "    <tr>\n",
       "      <th>month</th>\n",
       "      <td>0.008084</td>\n",
       "      <td>-0.006035</td>\n",
       "      <td>-0.000019</td>\n",
       "      <td>0.016553</td>\n",
       "      <td>1.000000</td>\n",
       "      <td>0.031594</td>\n",
       "      <td>-0.177706</td>\n",
       "      <td>-0.002325</td>\n",
       "      <td>0.002679</td>\n",
       "      <td>0.000004</td>\n",
       "    </tr>\n",
       "    <tr>\n",
       "      <th>day</th>\n",
       "      <td>0.004585</td>\n",
       "      <td>-0.002554</td>\n",
       "      <td>-0.001103</td>\n",
       "      <td>-0.013945</td>\n",
       "      <td>0.031594</td>\n",
       "      <td>1.000000</td>\n",
       "      <td>-0.026610</td>\n",
       "      <td>0.001343</td>\n",
       "      <td>-0.008496</td>\n",
       "      <td>-0.002817</td>\n",
       "    </tr>\n",
       "    <tr>\n",
       "      <th>year</th>\n",
       "      <td>0.053809</td>\n",
       "      <td>0.207131</td>\n",
       "      <td>-0.009571</td>\n",
       "      <td>0.170488</td>\n",
       "      <td>-0.177706</td>\n",
       "      <td>-0.026610</td>\n",
       "      <td>1.000000</td>\n",
       "      <td>-0.006006</td>\n",
       "      <td>-0.012938</td>\n",
       "      <td>0.002058</td>\n",
       "    </tr>\n",
       "    <tr>\n",
       "      <th>hour</th>\n",
       "      <td>0.014560</td>\n",
       "      <td>-0.006075</td>\n",
       "      <td>0.001244</td>\n",
       "      <td>0.014445</td>\n",
       "      <td>-0.002325</td>\n",
       "      <td>0.001343</td>\n",
       "      <td>-0.006006</td>\n",
       "      <td>1.000000</td>\n",
       "      <td>-0.009465</td>\n",
       "      <td>0.000829</td>\n",
       "    </tr>\n",
       "    <tr>\n",
       "      <th>minutes</th>\n",
       "      <td>-0.012228</td>\n",
       "      <td>-0.017555</td>\n",
       "      <td>0.000021</td>\n",
       "      <td>-0.001010</td>\n",
       "      <td>0.002679</td>\n",
       "      <td>-0.008496</td>\n",
       "      <td>-0.012938</td>\n",
       "      <td>-0.009465</td>\n",
       "      <td>1.000000</td>\n",
       "      <td>0.002308</td>\n",
       "    </tr>\n",
       "    <tr>\n",
       "      <th>seconds</th>\n",
       "      <td>0.006588</td>\n",
       "      <td>0.004475</td>\n",
       "      <td>0.000645</td>\n",
       "      <td>0.000894</td>\n",
       "      <td>0.000004</td>\n",
       "      <td>-0.002817</td>\n",
       "      <td>0.002058</td>\n",
       "      <td>0.000829</td>\n",
       "      <td>0.002308</td>\n",
       "      <td>1.000000</td>\n",
       "    </tr>\n",
       "  </tbody>\n",
       "</table>\n",
       "</div>"
      ],
      "text/plain": [
       "                     gas  token_transfer  value_log  gas_price_log     month  \\\n",
       "gas             1.000000        0.185005  -0.007400       0.014938  0.008084   \n",
       "token_transfer  0.185005        1.000000  -0.037670       0.038727 -0.006035   \n",
       "value_log      -0.007400       -0.037670   1.000000       0.002357 -0.000019   \n",
       "gas_price_log   0.014938        0.038727   0.002357       1.000000  0.016553   \n",
       "month           0.008084       -0.006035  -0.000019       0.016553  1.000000   \n",
       "day             0.004585       -0.002554  -0.001103      -0.013945  0.031594   \n",
       "year            0.053809        0.207131  -0.009571       0.170488 -0.177706   \n",
       "hour            0.014560       -0.006075   0.001244       0.014445 -0.002325   \n",
       "minutes        -0.012228       -0.017555   0.000021      -0.001010  0.002679   \n",
       "seconds         0.006588        0.004475   0.000645       0.000894  0.000004   \n",
       "\n",
       "                     day      year      hour   minutes   seconds  \n",
       "gas             0.004585  0.053809  0.014560 -0.012228  0.006588  \n",
       "token_transfer -0.002554  0.207131 -0.006075 -0.017555  0.004475  \n",
       "value_log      -0.001103 -0.009571  0.001244  0.000021  0.000645  \n",
       "gas_price_log  -0.013945  0.170488  0.014445 -0.001010  0.000894  \n",
       "month           0.031594 -0.177706 -0.002325  0.002679  0.000004  \n",
       "day             1.000000 -0.026610  0.001343 -0.008496 -0.002817  \n",
       "year           -0.026610  1.000000 -0.006006 -0.012938  0.002058  \n",
       "hour            0.001343 -0.006006  1.000000 -0.009465  0.000829  \n",
       "minutes        -0.008496 -0.012938 -0.009465  1.000000  0.002308  \n",
       "seconds        -0.002817  0.002058  0.000829  0.002308  1.000000  "
      ]
     },
     "execution_count": 20,
     "metadata": {},
     "output_type": "execute_result"
    }
   ],
   "source": [
    "trans_acc.corr()"
   ]
  },
  {
   "cell_type": "markdown",
   "id": "e1468a6f",
   "metadata": {},
   "source": [
    "### FEATURE ENGINEERING THROUGH ACCOUNTS AND FLAGS (FROM and TO ACCOUNTS)"
   ]
  },
  {
   "cell_type": "code",
   "execution_count": 21,
   "id": "25dafe02",
   "metadata": {},
   "outputs": [],
   "source": [
    "# x = pd.DataFrame(trans_acc.pivot_table(columns=['from_account',\"to_account\"], aggfunc='size'),columns=[\"no_of transactions\"])"
   ]
  },
  {
   "cell_type": "code",
   "execution_count": 22,
   "id": "1874ca70",
   "metadata": {},
   "outputs": [],
   "source": [
    "trans_acc[\"account\"] = trans_acc[\"from_account\"]"
   ]
  },
  {
   "cell_type": "code",
   "execution_count": 23,
   "id": "5b580a58",
   "metadata": {},
   "outputs": [],
   "source": [
    "trans_acc = trans_acc.drop([\"from_account\",\"to_account\"],axis=1)"
   ]
  },
  {
   "cell_type": "code",
   "execution_count": 24,
   "id": "6e57dbd9",
   "metadata": {},
   "outputs": [],
   "source": [
    "trans_acc = pd.merge(trans_acc,train)"
   ]
  },
  {
   "cell_type": "code",
   "execution_count": 25,
   "id": "11a6fbce",
   "metadata": {},
   "outputs": [
    {
     "data": {
      "text/plain": [
       "832068"
      ]
     },
     "execution_count": 25,
     "metadata": {},
     "output_type": "execute_result"
    }
   ],
   "source": [
    "trans_acc[trans_acc[\"flag\"]==1].size"
   ]
  },
  {
   "cell_type": "code",
   "execution_count": 26,
   "id": "301f4377",
   "metadata": {},
   "outputs": [
    {
     "data": {
      "text/html": [
       "<div>\n",
       "<style scoped>\n",
       "    .dataframe tbody tr th:only-of-type {\n",
       "        vertical-align: middle;\n",
       "    }\n",
       "\n",
       "    .dataframe tbody tr th {\n",
       "        vertical-align: top;\n",
       "    }\n",
       "\n",
       "    .dataframe thead th {\n",
       "        text-align: right;\n",
       "    }\n",
       "</style>\n",
       "<table border=\"1\" class=\"dataframe\">\n",
       "  <thead>\n",
       "    <tr style=\"text-align: right;\">\n",
       "      <th></th>\n",
       "      <th>gas</th>\n",
       "      <th>token_transfer</th>\n",
       "      <th>value_log</th>\n",
       "      <th>gas_price_log</th>\n",
       "      <th>month</th>\n",
       "      <th>day</th>\n",
       "      <th>year</th>\n",
       "      <th>hour</th>\n",
       "      <th>minutes</th>\n",
       "      <th>seconds</th>\n",
       "      <th>account</th>\n",
       "      <th>flag</th>\n",
       "    </tr>\n",
       "  </thead>\n",
       "  <tbody>\n",
       "    <tr>\n",
       "      <th>0</th>\n",
       "      <td>72585</td>\n",
       "      <td>1</td>\n",
       "      <td>0.000000</td>\n",
       "      <td>11.50</td>\n",
       "      <td>5</td>\n",
       "      <td>4</td>\n",
       "      <td>2020</td>\n",
       "      <td>14</td>\n",
       "      <td>54</td>\n",
       "      <td>3</td>\n",
       "      <td>a00996</td>\n",
       "      <td>0</td>\n",
       "    </tr>\n",
       "    <tr>\n",
       "      <th>1</th>\n",
       "      <td>73747</td>\n",
       "      <td>1</td>\n",
       "      <td>0.000000</td>\n",
       "      <td>10.35</td>\n",
       "      <td>5</td>\n",
       "      <td>5</td>\n",
       "      <td>2020</td>\n",
       "      <td>5</td>\n",
       "      <td>14</td>\n",
       "      <td>4</td>\n",
       "      <td>a00996</td>\n",
       "      <td>0</td>\n",
       "    </tr>\n",
       "    <tr>\n",
       "      <th>2</th>\n",
       "      <td>52747</td>\n",
       "      <td>1</td>\n",
       "      <td>0.000000</td>\n",
       "      <td>12.65</td>\n",
       "      <td>5</td>\n",
       "      <td>6</td>\n",
       "      <td>2020</td>\n",
       "      <td>8</td>\n",
       "      <td>10</td>\n",
       "      <td>14</td>\n",
       "      <td>a00996</td>\n",
       "      <td>0</td>\n",
       "    </tr>\n",
       "    <tr>\n",
       "      <th>3</th>\n",
       "      <td>72585</td>\n",
       "      <td>1</td>\n",
       "      <td>0.000000</td>\n",
       "      <td>23.00</td>\n",
       "      <td>5</td>\n",
       "      <td>6</td>\n",
       "      <td>2020</td>\n",
       "      <td>13</td>\n",
       "      <td>55</td>\n",
       "      <td>41</td>\n",
       "      <td>a00996</td>\n",
       "      <td>0</td>\n",
       "    </tr>\n",
       "    <tr>\n",
       "      <th>4</th>\n",
       "      <td>74391</td>\n",
       "      <td>1</td>\n",
       "      <td>0.000000</td>\n",
       "      <td>20.70</td>\n",
       "      <td>5</td>\n",
       "      <td>6</td>\n",
       "      <td>2020</td>\n",
       "      <td>16</td>\n",
       "      <td>8</td>\n",
       "      <td>51</td>\n",
       "      <td>a00996</td>\n",
       "      <td>0</td>\n",
       "    </tr>\n",
       "    <tr>\n",
       "      <th>...</th>\n",
       "      <td>...</td>\n",
       "      <td>...</td>\n",
       "      <td>...</td>\n",
       "      <td>...</td>\n",
       "      <td>...</td>\n",
       "      <td>...</td>\n",
       "      <td>...</td>\n",
       "      <td>...</td>\n",
       "      <td>...</td>\n",
       "      <td>...</td>\n",
       "      <td>...</td>\n",
       "      <td>...</td>\n",
       "    </tr>\n",
       "    <tr>\n",
       "      <th>2205344</th>\n",
       "      <td>21000</td>\n",
       "      <td>0</td>\n",
       "      <td>0.080000</td>\n",
       "      <td>60.00</td>\n",
       "      <td>5</td>\n",
       "      <td>3</td>\n",
       "      <td>2020</td>\n",
       "      <td>14</td>\n",
       "      <td>33</td>\n",
       "      <td>23</td>\n",
       "      <td>a11569</td>\n",
       "      <td>0</td>\n",
       "    </tr>\n",
       "    <tr>\n",
       "      <th>2205345</th>\n",
       "      <td>21000</td>\n",
       "      <td>0</td>\n",
       "      <td>1.109931</td>\n",
       "      <td>3.30</td>\n",
       "      <td>5</td>\n",
       "      <td>3</td>\n",
       "      <td>2020</td>\n",
       "      <td>22</td>\n",
       "      <td>24</td>\n",
       "      <td>52</td>\n",
       "      <td>a17328</td>\n",
       "      <td>1</td>\n",
       "    </tr>\n",
       "    <tr>\n",
       "      <th>2205346</th>\n",
       "      <td>21000</td>\n",
       "      <td>0</td>\n",
       "      <td>2.389127</td>\n",
       "      <td>10.89</td>\n",
       "      <td>5</td>\n",
       "      <td>4</td>\n",
       "      <td>2020</td>\n",
       "      <td>8</td>\n",
       "      <td>54</td>\n",
       "      <td>34</td>\n",
       "      <td>a24708</td>\n",
       "      <td>1</td>\n",
       "    </tr>\n",
       "    <tr>\n",
       "      <th>2205347</th>\n",
       "      <td>21000</td>\n",
       "      <td>0</td>\n",
       "      <td>20.623694</td>\n",
       "      <td>9.90</td>\n",
       "      <td>5</td>\n",
       "      <td>4</td>\n",
       "      <td>2020</td>\n",
       "      <td>8</td>\n",
       "      <td>58</td>\n",
       "      <td>13</td>\n",
       "      <td>a04245</td>\n",
       "      <td>1</td>\n",
       "    </tr>\n",
       "    <tr>\n",
       "      <th>2205348</th>\n",
       "      <td>41197</td>\n",
       "      <td>1</td>\n",
       "      <td>0.000000</td>\n",
       "      <td>6.60</td>\n",
       "      <td>5</td>\n",
       "      <td>4</td>\n",
       "      <td>2020</td>\n",
       "      <td>10</td>\n",
       "      <td>42</td>\n",
       "      <td>29</td>\n",
       "      <td>a20293</td>\n",
       "      <td>0</td>\n",
       "    </tr>\n",
       "  </tbody>\n",
       "</table>\n",
       "<p>2205349 rows × 12 columns</p>\n",
       "</div>"
      ],
      "text/plain": [
       "           gas  token_transfer  value_log  gas_price_log  month  day  year  \\\n",
       "0        72585               1   0.000000          11.50      5    4  2020   \n",
       "1        73747               1   0.000000          10.35      5    5  2020   \n",
       "2        52747               1   0.000000          12.65      5    6  2020   \n",
       "3        72585               1   0.000000          23.00      5    6  2020   \n",
       "4        74391               1   0.000000          20.70      5    6  2020   \n",
       "...        ...             ...        ...            ...    ...  ...   ...   \n",
       "2205344  21000               0   0.080000          60.00      5    3  2020   \n",
       "2205345  21000               0   1.109931           3.30      5    3  2020   \n",
       "2205346  21000               0   2.389127          10.89      5    4  2020   \n",
       "2205347  21000               0  20.623694           9.90      5    4  2020   \n",
       "2205348  41197               1   0.000000           6.60      5    4  2020   \n",
       "\n",
       "         hour  minutes  seconds account  flag  \n",
       "0          14       54        3  a00996     0  \n",
       "1           5       14        4  a00996     0  \n",
       "2           8       10       14  a00996     0  \n",
       "3          13       55       41  a00996     0  \n",
       "4          16        8       51  a00996     0  \n",
       "...       ...      ...      ...     ...   ...  \n",
       "2205344    14       33       23  a11569     0  \n",
       "2205345    22       24       52  a17328     1  \n",
       "2205346     8       54       34  a24708     1  \n",
       "2205347     8       58       13  a04245     1  \n",
       "2205348    10       42       29  a20293     0  \n",
       "\n",
       "[2205349 rows x 12 columns]"
      ]
     },
     "execution_count": 26,
     "metadata": {},
     "output_type": "execute_result"
    }
   ],
   "source": [
    "trans_acc"
   ]
  },
  {
   "cell_type": "markdown",
   "id": "ef499d03",
   "metadata": {},
   "source": [
    "### FEATURE ENGINEERING BY CHANGING THE ACCOUNTS TO FLOAT"
   ]
  },
  {
   "cell_type": "code",
   "execution_count": 27,
   "id": "67488608",
   "metadata": {},
   "outputs": [],
   "source": [
    "trans_acc[\"account\"] = trans_acc[\"account\"].astype(\"string\")"
   ]
  },
  {
   "cell_type": "code",
   "execution_count": 28,
   "id": "92920bbb",
   "metadata": {},
   "outputs": [],
   "source": [
    "def to_float(acc):\n",
    "    my_str = acc[1:]\n",
    "    return my_str"
   ]
  },
  {
   "cell_type": "code",
   "execution_count": 29,
   "id": "3338e0b0",
   "metadata": {},
   "outputs": [],
   "source": [
    "trans_acc[\"account\"] = trans_acc[\"account\"].apply(lambda row : to_float(row))"
   ]
  },
  {
   "cell_type": "code",
   "execution_count": 30,
   "id": "72e3198a",
   "metadata": {},
   "outputs": [],
   "source": [
    "trans_acc[\"account\"] = trans_acc[\"account\"].astype(\"float\")"
   ]
  },
  {
   "cell_type": "code",
   "execution_count": 31,
   "id": "5daa24a3",
   "metadata": {},
   "outputs": [],
   "source": [
    "Fraud = trans_acc[trans_acc['flag']==1]\n",
    "\n",
    "Valid = trans_acc[trans_acc['flag']==0]\n",
    "\n",
    "outlier_fraction = len(Fraud)/float(len(Valid))"
   ]
  },
  {
   "cell_type": "code",
   "execution_count": null,
   "id": "b33dc9b2",
   "metadata": {},
   "outputs": [],
   "source": []
  },
  {
   "cell_type": "code",
   "execution_count": null,
   "id": "c42ba477",
   "metadata": {},
   "outputs": [],
   "source": []
  },
  {
   "cell_type": "code",
   "execution_count": null,
   "id": "ef34100b",
   "metadata": {},
   "outputs": [],
   "source": []
  },
  {
   "cell_type": "code",
   "execution_count": null,
   "id": "dc1ad2f1",
   "metadata": {},
   "outputs": [],
   "source": []
  },
  {
   "cell_type": "code",
   "execution_count": null,
   "id": "dced9d6e",
   "metadata": {},
   "outputs": [],
   "source": []
  },
  {
   "cell_type": "markdown",
   "id": "b74df92e",
   "metadata": {},
   "source": [
    "## MODELLING AND PREDICTING"
   ]
  },
  {
   "cell_type": "code",
   "execution_count": 32,
   "id": "b7bd695b",
   "metadata": {},
   "outputs": [],
   "source": [
    "train[\"account\"] = train[\"account\"].apply(lambda row : to_float(row)).astype(\"float\")"
   ]
  },
  {
   "cell_type": "code",
   "execution_count": 33,
   "id": "4f09b54b",
   "metadata": {},
   "outputs": [
    {
     "name": "stdout",
     "output_type": "stream",
     "text": [
      "(25198, 1)\n",
      "(25198,)\n"
     ]
    }
   ],
   "source": [
    "#Create independent and Dependent Features\n",
    "columns = train.columns.tolist()\n",
    "# Filter the columns to remove data we do not want \n",
    "columns = [c for c in columns if c not in [\"flag\"]]\n",
    "# Store the variable we are predicting \n",
    "target = \"flag\"\n",
    "# Define a random state \n",
    "state = np.random.RandomState(42)\n",
    "X = train[columns]\n",
    "Y = train[target]\n",
    "X_outliers = state.uniform(low=0, high=1, size=(X.shape[0], X.shape[1]))\n",
    "# Print the shapes of X & Y\n",
    "print(X.shape)\n",
    "print(Y.shape)"
   ]
  },
  {
   "cell_type": "code",
   "execution_count": 34,
   "id": "18a8911c",
   "metadata": {},
   "outputs": [],
   "source": [
    "classifiers = {\n",
    "    \"Isolation Forest\":IsolationForest(n_estimators=100, max_samples=len(X), \n",
    "                                       contamination=outlier_fraction,random_state=state, verbose=0),\n",
    "    \"Local Outlier Factor\":LocalOutlierFactor(n_neighbors=20, algorithm='auto', \n",
    "                                              leaf_size=30, metric='minkowski',\n",
    "                                              p=2, metric_params=None, contamination=outlier_fraction),\n",
    "    \"Support Vector Machine\":OneClassSVM(kernel='rbf', degree=3, gamma=0.1,nu=0.05, \n",
    "                                         max_iter=-1)\n",
    "   \n",
    "}"
   ]
  },
  {
   "cell_type": "code",
   "execution_count": 35,
   "id": "7c4a354c",
   "metadata": {},
   "outputs": [
    {
     "name": "stderr",
     "output_type": "stream",
     "text": [
      "/opt/homebrew/lib/python3.10/site-packages/sklearn/base.py:450: UserWarning: X does not have valid feature names, but IsolationForest was fitted with feature names\n",
      "  warnings.warn(\n"
     ]
    },
    {
     "name": "stdout",
     "output_type": "stream",
     "text": [
      "Isolation Forest: 3127\n",
      "Accuracy Score :\n",
      "0.8759028494324946\n",
      "Classification Report :\n",
      "              precision    recall  f1-score   support\n",
      "\n",
      "           0       0.90      0.97      0.93     22743\n",
      "           1       0.09      0.03      0.04      2455\n",
      "\n",
      "    accuracy                           0.88     25198\n",
      "   macro avg       0.50      0.50      0.49     25198\n",
      "weighted avg       0.82      0.88      0.85     25198\n",
      "\n",
      "Local Outlier Factor: 3095\n",
      "Accuracy Score :\n",
      "0.8771727914913882\n",
      "Classification Report :\n",
      "              precision    recall  f1-score   support\n",
      "\n",
      "           0       0.90      0.97      0.93     22743\n",
      "           1       0.11      0.04      0.05      2455\n",
      "\n",
      "    accuracy                           0.88     25198\n",
      "   macro avg       0.51      0.50      0.49     25198\n",
      "weighted avg       0.83      0.88      0.85     25198\n",
      "\n",
      "Support Vector Machine: 11750\n",
      "Accuracy Score :\n",
      "0.5336931502500198\n",
      "Classification Report :\n",
      "              precision    recall  f1-score   support\n",
      "\n",
      "           0       0.90      0.54      0.68     22743\n",
      "           1       0.10      0.47      0.16      2455\n",
      "\n",
      "    accuracy                           0.53     25198\n",
      "   macro avg       0.50      0.50      0.42     25198\n",
      "weighted avg       0.83      0.53      0.63     25198\n",
      "\n"
     ]
    }
   ],
   "source": [
    "n_outliers = len(Fraud)\n",
    "for i, (clf_name,clf) in enumerate(classifiers.items()):\n",
    "    #Fit the data and tag outliers\n",
    "    if clf_name == \"Local Outlier Factor\":\n",
    "        y_pred = clf.fit_predict(X)\n",
    "        scores_prediction = clf.negative_outlier_factor_\n",
    "    elif clf_name == \"Support Vector Machine\":\n",
    "        clf.fit(X)\n",
    "        y_pred = clf.predict(X)\n",
    "    else:    \n",
    "        clf.fit(X)\n",
    "        scores_prediction = clf.decision_function(X)\n",
    "        y_pred = clf.predict(X)\n",
    "    #Reshape the prediction values to 0 for Valid transactions , 1 for Fraud transactions\n",
    "    y_pred[y_pred == 1] = 0\n",
    "    y_pred[y_pred == -1] = 1\n",
    "    n_errors = (y_pred != Y).sum()\n",
    "    # Run Classification Metrics\n",
    "    print(\"{}: {}\".format(clf_name,n_errors))\n",
    "    print(\"Accuracy Score :\")\n",
    "    print(accuracy_score(Y,y_pred))\n",
    "    print(\"Classification Report :\")\n",
    "    print(classification_report(Y,y_pred))"
   ]
  },
  {
   "cell_type": "markdown",
   "id": "87ae85fd",
   "metadata": {},
   "source": [
    "### PREDICTING THE MODEL"
   ]
  },
  {
   "cell_type": "code",
   "execution_count": 36,
   "id": "dbc724d3",
   "metadata": {},
   "outputs": [],
   "source": [
    "test = pd.read_csv(\"test_accounts.csv\")"
   ]
  },
  {
   "cell_type": "code",
   "execution_count": 37,
   "id": "236ca7ae",
   "metadata": {},
   "outputs": [],
   "source": [
    "test_acc = test[\"account\"]\n",
    "test[\"account\"] = test[\"account\"].apply(lambda row : to_float(row)).astype(\"float\")"
   ]
  },
  {
   "cell_type": "code",
   "execution_count": 38,
   "id": "ceb0824f",
   "metadata": {},
   "outputs": [],
   "source": [
    "test_pred = pd.DataFrame(clf.predict(test))"
   ]
  },
  {
   "cell_type": "code",
   "execution_count": 39,
   "id": "0a72c005",
   "metadata": {},
   "outputs": [],
   "source": [
    "test_pred[\"flag\"] = test_pred[0].apply(lambda row : 0 if row==-1 else 1)"
   ]
  },
  {
   "cell_type": "code",
   "execution_count": 40,
   "id": "dd7f27a5",
   "metadata": {},
   "outputs": [],
   "source": [
    "test_pred = test_pred.drop(0,axis=1)"
   ]
  },
  {
   "cell_type": "code",
   "execution_count": 41,
   "id": "6d82c4fd",
   "metadata": {},
   "outputs": [],
   "source": [
    "test[\"flag\"] = test_pred[\"flag\"]"
   ]
  },
  {
   "cell_type": "code",
   "execution_count": 42,
   "id": "b81e0cf8",
   "metadata": {},
   "outputs": [],
   "source": [
    "test[\"account\"] = test_acc"
   ]
  },
  {
   "cell_type": "code",
   "execution_count": 43,
   "id": "455b5456",
   "metadata": {},
   "outputs": [],
   "source": [
    "result = test"
   ]
  },
  {
   "cell_type": "code",
   "execution_count": 44,
   "id": "ff316879",
   "metadata": {},
   "outputs": [
    {
     "data": {
      "text/html": [
       "<div>\n",
       "<style scoped>\n",
       "    .dataframe tbody tr th:only-of-type {\n",
       "        vertical-align: middle;\n",
       "    }\n",
       "\n",
       "    .dataframe tbody tr th {\n",
       "        vertical-align: top;\n",
       "    }\n",
       "\n",
       "    .dataframe thead th {\n",
       "        text-align: right;\n",
       "    }\n",
       "</style>\n",
       "<table border=\"1\" class=\"dataframe\">\n",
       "  <thead>\n",
       "    <tr style=\"text-align: right;\">\n",
       "      <th></th>\n",
       "      <th>account</th>\n",
       "      <th>flag</th>\n",
       "    </tr>\n",
       "  </thead>\n",
       "  <tbody>\n",
       "    <tr>\n",
       "      <th>0</th>\n",
       "      <td>a27890</td>\n",
       "      <td>0</td>\n",
       "    </tr>\n",
       "    <tr>\n",
       "      <th>1</th>\n",
       "      <td>a29649</td>\n",
       "      <td>0</td>\n",
       "    </tr>\n",
       "    <tr>\n",
       "      <th>2</th>\n",
       "      <td>a28243</td>\n",
       "      <td>1</td>\n",
       "    </tr>\n",
       "    <tr>\n",
       "      <th>3</th>\n",
       "      <td>a07155</td>\n",
       "      <td>0</td>\n",
       "    </tr>\n",
       "    <tr>\n",
       "      <th>4</th>\n",
       "      <td>a15576</td>\n",
       "      <td>0</td>\n",
       "    </tr>\n",
       "    <tr>\n",
       "      <th>...</th>\n",
       "      <td>...</td>\n",
       "      <td>...</td>\n",
       "    </tr>\n",
       "    <tr>\n",
       "      <th>6295</th>\n",
       "      <td>a19941</td>\n",
       "      <td>0</td>\n",
       "    </tr>\n",
       "    <tr>\n",
       "      <th>6296</th>\n",
       "      <td>a09327</td>\n",
       "      <td>0</td>\n",
       "    </tr>\n",
       "    <tr>\n",
       "      <th>6297</th>\n",
       "      <td>a10254</td>\n",
       "      <td>1</td>\n",
       "    </tr>\n",
       "    <tr>\n",
       "      <th>6298</th>\n",
       "      <td>a08928</td>\n",
       "      <td>0</td>\n",
       "    </tr>\n",
       "    <tr>\n",
       "      <th>6299</th>\n",
       "      <td>a03148</td>\n",
       "      <td>1</td>\n",
       "    </tr>\n",
       "  </tbody>\n",
       "</table>\n",
       "<p>6300 rows × 2 columns</p>\n",
       "</div>"
      ],
      "text/plain": [
       "     account  flag\n",
       "0     a27890     0\n",
       "1     a29649     0\n",
       "2     a28243     1\n",
       "3     a07155     0\n",
       "4     a15576     0\n",
       "...      ...   ...\n",
       "6295  a19941     0\n",
       "6296  a09327     0\n",
       "6297  a10254     1\n",
       "6298  a08928     0\n",
       "6299  a03148     1\n",
       "\n",
       "[6300 rows x 2 columns]"
      ]
     },
     "execution_count": 44,
     "metadata": {},
     "output_type": "execute_result"
    }
   ],
   "source": [
    "result"
   ]
  },
  {
   "cell_type": "markdown",
   "id": "fbbf9413",
   "metadata": {},
   "source": [
    "### save the RESULT in the csv file"
   ]
  },
  {
   "cell_type": "code",
   "execution_count": 45,
   "id": "49738303",
   "metadata": {},
   "outputs": [],
   "source": [
    "result.to_csv('submission.csv',, encoding='utf-8')"
   ]
  }
 ],
 "metadata": {
  "kernelspec": {
   "display_name": "Python 3 (ipykernel)",
   "language": "python",
   "name": "python3"
  },
  "language_info": {
   "codemirror_mode": {
    "name": "ipython",
    "version": 3
   },
   "file_extension": ".py",
   "mimetype": "text/x-python",
   "name": "python",
   "nbconvert_exporter": "python",
   "pygments_lexer": "ipython3",
   "version": "3.10.8"
  },
  "vscode": {
   "interpreter": {
    "hash": "b0fa6594d8f4cbf19f97940f81e996739fb7646882a419484c72d19e05852a7e"
   }
  }
 },
 "nbformat": 4,
 "nbformat_minor": 5
}
